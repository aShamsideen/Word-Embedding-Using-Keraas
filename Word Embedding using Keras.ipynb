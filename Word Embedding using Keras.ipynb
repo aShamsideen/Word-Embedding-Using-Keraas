{
 "cells": [
  {
   "cell_type": "markdown",
   "id": "671c076f",
   "metadata": {},
   "source": [
    "### Import required libraries"
   ]
  },
  {
   "cell_type": "code",
   "execution_count": 18,
   "id": "0cbb84e3",
   "metadata": {},
   "outputs": [],
   "source": [
    "import tensorflow as tf\n",
    "from tensorflow import convert_to_tensor, string\n",
    "from tensorflow.keras.layers import TextVectorization, Embedding, Layer\n",
    "from tensorflow.data import Dataset\n",
    "import numpy as np\n",
    "import matplotlib.pyplot as plt"
   ]
  },
  {
   "cell_type": "markdown",
   "id": "579c0f76",
   "metadata": {},
   "source": [
    "### Text Vectorization Layer\n",
    "Create a dictionary of words and replace each word with its corresponding index in the dictionary. Text is being converted to lowercase with punctuations and noise in the text already removed. Text will be converted to a fixed lenght of 5.  "
   ]
  },
  {
   "cell_type": "code",
   "execution_count": 23,
   "id": "5eddf86a",
   "metadata": {},
   "outputs": [
    {
     "name": "stdout",
     "output_type": "stream",
     "text": [
      "Vocabulary:  ['', '[UNK]', 'you', 'like', 'too', 'really', 'me', 'i']\n",
      "Vectorized words:  tf.Tensor(\n",
      "[[7 5 3 2 0]\n",
      " [2 3 6 4 0]], shape=(2, 5), dtype=int64)\n"
     ]
    }
   ],
   "source": [
    "output_sequence_length = 5\n",
    "vocab_size = 10\n",
    "sentences = [['I really like you'], ['you like me too']]\n",
    "sentence_data = Dataset.from_tensor_slices(sentences)\n",
    "\n",
    "# Create TextVectorization layer\n",
    "vectorize_layer = TextVectorization(\n",
    "                    output_sequence_length=output_sequence_length,\n",
    "                    max_tokens=vocab_size)\n",
    "\n",
    "# Train layer to create dictionanry\n",
    "vectorize_layer.adapt(sentence_data)\n",
    "\n",
    "# convert all sentences to tensor\n",
    "word_tensors = convert_to_tensor(sentences, dtype=tf.string)\n",
    "\n",
    "# use the word tensors to get vectorized phases\n",
    "vectorized_words = vectorize_layer(word_tensors)\n",
    "print('Vocabulary: ', vectorize_layer.get_vocabulary())\n",
    "print('Vectorized words: ', vectorized_words)"
   ]
  },
  {
   "cell_type": "markdown",
   "id": "44f86af5",
   "metadata": {},
   "source": [
    "### The Embedding Layer\n",
    "This layer converts the vectorized integers to dense vectors by mapping the integers to random numbers which are  later tuned during the training stage. The maximum value of an integer to map, along with the length of the output sequence will be specified to initialize this layer."
   ]
  },
  {
   "cell_type": "code",
   "execution_count": 25,
   "id": "289c2160",
   "metadata": {},
   "outputs": [
    {
     "name": "stdout",
     "output_type": "stream",
     "text": [
      "tf.Tensor(\n",
      "[[[-2.2126008e-02 -3.7764598e-02  2.6047383e-02  2.9281747e-02\n",
      "   -2.6089026e-02 -3.1630911e-02]\n",
      "  [-1.0207761e-02  3.0542698e-02 -3.3656143e-02 -4.8206247e-02\n",
      "   -4.5105603e-02 -2.3292959e-02]\n",
      "  [-2.6548481e-02 -3.6362521e-03  1.3392415e-02 -1.6136743e-02\n",
      "   -5.7589263e-05  2.2300053e-02]\n",
      "  [ 3.7433717e-02 -2.0365894e-02 -3.5462558e-02  3.4051761e-03\n",
      "    2.2094343e-02  2.2262085e-02]\n",
      "  [-2.3195434e-02 -6.3557401e-03 -4.7489811e-02  4.5638468e-02\n",
      "    4.5630667e-02 -2.8877009e-02]]\n",
      "\n",
      " [[ 3.7433717e-02 -2.0365894e-02 -3.5462558e-02  3.4051761e-03\n",
      "    2.2094343e-02  2.2262085e-02]\n",
      "  [-2.6548481e-02 -3.6362521e-03  1.3392415e-02 -1.6136743e-02\n",
      "   -5.7589263e-05  2.2300053e-02]\n",
      "  [ 4.5729470e-02 -4.2630423e-02  2.9843058e-02  3.6992822e-02\n",
      "   -5.4129735e-03 -9.5288157e-03]\n",
      "  [ 2.7218569e-02 -2.4116432e-02 -2.1551240e-02  4.3694463e-02\n",
      "    7.1462393e-03  3.5072234e-02]\n",
      "  [-2.3195434e-02 -6.3557401e-03 -4.7489811e-02  4.5638468e-02\n",
      "    4.5630667e-02 -2.8877009e-02]]], shape=(2, 5, 6), dtype=float32)\n"
     ]
    }
   ],
   "source": [
    "output_length = 6\n",
    "word_embedding_layer = Embedding(vocab_size, output_length)\n",
    "embedded_words = word_embedding_layer(vectorized_words)\n",
    "print(embedded_words)"
   ]
  },
  {
   "cell_type": "markdown",
   "id": "ad92c6f9",
   "metadata": {},
   "source": [
    "### The Position Embeddings\n",
    "The embeddings for the corresponding positions will be needed. The maximum positions correspond to the output sequence length of the TextVectorization layer."
   ]
  },
  {
   "cell_type": "code",
   "execution_count": 26,
   "id": "c7e3f6bc",
   "metadata": {
    "scrolled": false
   },
   "outputs": [
    {
     "name": "stdout",
     "output_type": "stream",
     "text": [
      "tf.Tensor(\n",
      "[[-0.0063786  -0.02739023 -0.03723443 -0.01768798  0.03711652  0.00513405]\n",
      " [-0.01952741 -0.02922603  0.00397249  0.00410565  0.03146471  0.0389826 ]\n",
      " [-0.02901748 -0.02447811 -0.04964608  0.01225094 -0.04306373  0.02616123]\n",
      " [ 0.04017119  0.04720197 -0.04679694  0.02926166 -0.0256608  -0.01286262]\n",
      " [-0.04167948 -0.03364266  0.02395311 -0.02478348 -0.02884538  0.013621  ]], shape=(5, 6), dtype=float32)\n"
     ]
    }
   ],
   "source": [
    "position_embedding_layer = Embedding(output_sequence_length, output_length)\n",
    "position_indices = tf.range(output_sequence_length)\n",
    "embedded_indices = position_embedding_layer(position_indices)\n",
    "print(embedded_indices)"
   ]
  },
  {
   "cell_type": "markdown",
   "id": "e8bfb41a",
   "metadata": {},
   "source": [
    "### Output of Positional Encoding in Transfromer Layers\n",
    "Final output is the sum of both the word embeddings and the position embeddings. When setting up the embedding layers, the output length must be the same for both."
   ]
  },
  {
   "cell_type": "code",
   "execution_count": 6,
   "id": "c65f84ae",
   "metadata": {
    "scrolled": true
   },
   "outputs": [
    {
     "name": "stdout",
     "output_type": "stream",
     "text": [
      "Final output:  tf.Tensor(\n",
      "[[[-0.0355254   0.04209339  0.01560099  0.00301884  0.0708496\n",
      "   -0.06040512]\n",
      "  [-0.01940534 -0.02546074 -0.00463065  0.00063575  0.01455417\n",
      "   -0.02913583]\n",
      "  [-0.06205215  0.04625966 -0.0585547  -0.00262468 -0.03749379\n",
      "    0.03159023]\n",
      "  [ 0.00304055  0.00980653 -0.03997726 -0.01762348  0.00828151\n",
      "    0.00290263]\n",
      "  [ 0.00202781 -0.05798338  0.00062245 -0.02810565 -0.0104025\n",
      "   -0.05959735]]\n",
      "\n",
      " [[-0.01446475 -0.02129437 -0.0007667  -0.02745466  0.06149679\n",
      "   -0.05771731]\n",
      "  [ 0.03943021  0.0227052   0.00389034  0.00843935  0.03654366\n",
      "    0.00919087]\n",
      "  [-0.03064502  0.00094226 -0.03857277 -0.07160868  0.01219207\n",
      "    0.03110614]\n",
      "  [-0.04478427  0.00989927 -0.01608056  0.02252822  0.00045188\n",
      "   -0.0589138 ]\n",
      "  [ 0.00202781 -0.05798338  0.00062245 -0.02810565 -0.0104025\n",
      "   -0.05959735]]], shape=(2, 5, 6), dtype=float32)\n"
     ]
    }
   ],
   "source": [
    "final_output_embedding = embedded_words + embedded_indices\n",
    "print('Final output: ', final_output_embedding)"
   ]
  },
  {
   "cell_type": "markdown",
   "id": "4b42d321",
   "metadata": {},
   "source": [
    "### Subclassing the Keras Embedding Layer\n",
    "Writing the position encoding layer for implementing the model."
   ]
  },
  {
   "cell_type": "code",
   "execution_count": 11,
   "id": "08d57cc4",
   "metadata": {},
   "outputs": [],
   "source": [
    "class PositionEmbeddingLayer(Layer):\n",
    "    def __init__(self, sequence_length, vocab_size, output_dim, **kwargs):\n",
    "        super(PositionEmbeddingLayer, self).__init__(**kwargs)\n",
    "        self.word_embedding_layer = Embedding(\n",
    "            input_dim=vocab_size, output_dim=output_dim\n",
    "        )\n",
    "        self.position_embedding_layer = Embedding(\n",
    "            input_dim=sequence_length, output_dim=output_dim\n",
    "        )\n",
    " \n",
    "    def call(self, inputs):        \n",
    "        position_indices = tf.range(tf.shape(inputs)[-1])\n",
    "        embedded_words = self.word_embedding_layer(inputs)\n",
    "        embedded_indices = self.position_embedding_layer(position_indices)\n",
    "        return embedded_words + embedded_indices"
   ]
  },
  {
   "cell_type": "code",
   "execution_count": 12,
   "id": "c445b6cf",
   "metadata": {},
   "outputs": [
    {
     "name": "stdout",
     "output_type": "stream",
     "text": [
      "Output from my_embedded_layer:  tf.Tensor(\n",
      "[[[ 0.04623989  0.06670829 -0.02750586  0.06107529  0.05853873\n",
      "    0.00839955]\n",
      "  [-0.06119833  0.00973412  0.0334167   0.02901964 -0.02047502\n",
      "    0.03735089]\n",
      "  [-0.01794234  0.02338185 -0.0104884  -0.08032697 -0.03864441\n",
      "   -0.05242062]\n",
      "  [ 0.07136345  0.07789062  0.02154716  0.09063016 -0.01603872\n",
      "    0.0358449 ]\n",
      "  [ 0.02114854 -0.02630402  0.02361604 -0.01398748 -0.00175267\n",
      "   -0.01119104]]\n",
      "\n",
      " [[ 0.03754658  0.07580233 -0.03903848  0.02713228  0.03204745\n",
      "   -0.05183049]\n",
      "  [-0.04418183 -0.01891258  0.05637662  0.00261655 -0.02037469\n",
      "    0.00211183]\n",
      "  [ 0.04906064  0.03102591  0.01584989  0.01187365 -0.01840589\n",
      "   -0.01382619]\n",
      "  [ 0.04723318  0.02041649 -0.02691056 -0.00567906 -0.05384922\n",
      "   -0.02998375]\n",
      "  [ 0.02114854 -0.02630402  0.02361604 -0.01398748 -0.00175267\n",
      "   -0.01119104]]], shape=(2, 5, 6), dtype=float32)\n"
     ]
    }
   ],
   "source": [
    "my_embedding_layer = PositionEmbeddingLayer(output_sequence_length,\n",
    "                                            vocab_size, output_length)\n",
    "embedded_layer_output = my_embedding_layer(vectorized_words)\n",
    "print(\"Output from my_embedded_layer: \", embedded_layer_output)"
   ]
  },
  {
   "cell_type": "markdown",
   "id": "eb77b41f",
   "metadata": {},
   "source": [
    "### Positional Encoding in Transformers: Attention Is All You Need\n",
    "Creating another positional embedding class that provides the positional encoding matrix as weights along with trainable=False."
   ]
  },
  {
   "cell_type": "code",
   "execution_count": 13,
   "id": "70fb46f4",
   "metadata": {},
   "outputs": [],
   "source": [
    "class PositionEmbeddingFixedWeights(Layer):\n",
    "    def __init__(self, sequence_length, vocab_size, output_dim, **kwargs):\n",
    "        super(PositionEmbeddingFixedWeights, self).__init__(**kwargs)\n",
    "        word_embedding_matrix = self.get_position_encoding(vocab_size, output_dim)   \n",
    "        position_embedding_matrix = self.get_position_encoding(sequence_length, output_dim)                                          \n",
    "        self.word_embedding_layer = Embedding(\n",
    "            input_dim=vocab_size, output_dim=output_dim,\n",
    "            weights=[word_embedding_matrix],\n",
    "            trainable=False\n",
    "        )\n",
    "        self.position_embedding_layer = Embedding(\n",
    "            input_dim=sequence_length, output_dim=output_dim,\n",
    "            weights=[position_embedding_matrix],\n",
    "            trainable=False\n",
    "        )\n",
    "             \n",
    "    def get_position_encoding(self, seq_len, d, n=10000):\n",
    "        P = np.zeros((seq_len, d))\n",
    "        for k in range(seq_len):\n",
    "            for i in np.arange(int(d/2)):\n",
    "                denominator = np.power(n, 2*i/d)\n",
    "                P[k, 2*i] = np.sin(k/denominator)\n",
    "                P[k, 2*i+1] = np.cos(k/denominator)\n",
    "        return P\n",
    " \n",
    " \n",
    "    def call(self, inputs):        \n",
    "        position_indices = tf.range(tf.shape(inputs)[-1])\n",
    "        embedded_words = self.word_embedding_layer(inputs)\n",
    "        embedded_indices = self.position_embedding_layer(position_indices)\n",
    "        return embedded_words + embedded_indices"
   ]
  },
  {
   "cell_type": "code",
   "execution_count": 14,
   "id": "475ac5e5",
   "metadata": {},
   "outputs": [
    {
     "name": "stdout",
     "output_type": "stream",
     "text": [
      "Output from my_embedded_layer:  tf.Tensor(\n",
      "[[[-0.9589243   1.2836622   0.23000172  1.9731903   0.01077196\n",
      "    1.9999421 ]\n",
      "  [ 0.56205547  1.5004725   0.3213085   1.9603932   0.01508068\n",
      "    1.9999142 ]\n",
      "  [ 1.566284    0.3377554   0.41192317  1.9433732   0.01938933\n",
      "    1.999877  ]\n",
      "  [ 1.0504174  -1.4061394   0.2314966   1.9860148   0.01077211\n",
      "    1.9999698 ]\n",
      "  [-0.7568025   0.3463564   0.18459873  1.982814    0.00861763\n",
      "    1.9999628 ]]\n",
      "\n",
      " [[ 0.14112     0.0100075   0.1387981   1.9903207   0.00646326\n",
      "    1.9999791 ]\n",
      "  [ 0.08466846 -0.11334133  0.23099795  1.9817369   0.01077207\n",
      "    1.9999605 ]\n",
      "  [ 1.8185948  -0.8322937   0.185397    1.9913884   0.00861771\n",
      "    1.9999814 ]\n",
      "  [ 0.14112     0.0100075   0.1387981   1.9903207   0.00646326\n",
      "    1.9999791 ]\n",
      "  [-0.7568025   0.3463564   0.18459873  1.982814    0.00861763\n",
      "    1.9999628 ]]], shape=(2, 5, 6), dtype=float32)\n"
     ]
    }
   ],
   "source": [
    "attnisallyouneed_embedding = PositionEmbeddingFixedWeights(output_sequence_length,\n",
    "                                            vocab_size, output_length)\n",
    "attnisallyouneed_output = attnisallyouneed_embedding(vectorized_words)\n",
    "print(\"Output from my_embedded_layer: \", attnisallyouneed_output)"
   ]
  },
  {
   "cell_type": "markdown",
   "id": "97b1cf4d",
   "metadata": {},
   "source": [
    "### Visualizing the Final Embedding\n",
    "For visualization purpose, two sentences longer than the initial ones will be used nmaely - life_phrase and philosophical_phrase. TextVectorization layer along with the positional encoding layer will be set up. "
   ]
  },
  {
   "cell_type": "code",
   "execution_count": 29,
   "id": "cc787ab5",
   "metadata": {},
   "outputs": [],
   "source": [
    "life_phrase = \"the outer world is a reflection of the inner world \" +\\\n",
    "                   \" other people's perception of you is a reflection of them \"+\\\n",
    "                   \"your response to them is an awareness of you\"\n",
    "philosophical_phrase = \"be the reason someone smiles \"+\\\n",
    "                       \"be the reason someone feels loved and believes in the goodness in people\"\n",
    " \n",
    "total_vocabulary = 200\n",
    "sequence_length = 20\n",
    "final_output_len = 50\n",
    "phrase_vectorization_layer = TextVectorization(\n",
    "                  output_sequence_length=sequence_length,\n",
    "                  max_tokens=total_vocabulary)\n",
    "# Learn the dictionary\n",
    "phrase_vectorization_layer.adapt([life_phrase, philosophical_phrase])\n",
    "# Convert all sentences to tensors\n",
    "phrase_tensors = convert_to_tensor([life_phrase, philosophical_phrase], \n",
    "                                   dtype=tf.string)\n",
    "# Use the word tensors to get vectorized phrases\n",
    "vectorized_phrases = phrase_vectorization_layer(phrase_tensors)\n",
    " \n",
    "random_weights_embedding_layer = PositionEmbeddingLayer(sequence_length, \n",
    "                                                        total_vocabulary,\n",
    "                                                        final_output_len)\n",
    "fixed_weights_embedding_layer = PositionEmbeddingFixedWeights(sequence_length, \n",
    "                                                        total_vocabulary,\n",
    "                                                        final_output_len)\n",
    "random_embedding = random_weights_embedding_layer(vectorized_phrases)\n",
    "fixed_embedding = fixed_weights_embedding_layer(vectorized_phrases)"
   ]
  },
  {
   "cell_type": "code",
   "execution_count": 30,
   "id": "ab17868e",
   "metadata": {},
   "outputs": [
    {
     "data": {
      "image/png": "[encoded data removed]",
      "text/plain": [
       "<Figure size 1080x360 with 4 Axes>"
      ]
     },
     "metadata": {
      "needs_background": "light"
     },
     "output_type": "display_data"
    }
   ],
   "source": [
    "fig = plt.figure(figsize=(15, 5))    \n",
    "title = [\"Life Phrase\", \"Philosophical Phrase\"]\n",
    "for i in range(2):\n",
    "    ax = plt.subplot(1, 2, 1+i)\n",
    "    matrix = tf.reshape(random_embedding[i, :, :], (sequence_length, final_output_len))\n",
    "    cax = ax.matshow(matrix)\n",
    "    plt.gcf().colorbar(cax)   \n",
    "    plt.title(title[i], y=1.2)\n",
    "fig.suptitle(\"Random Embedding\")\n",
    "plt.show()"
   ]
  },
  {
   "cell_type": "markdown",
   "id": "3292300c",
   "metadata": {},
   "source": [
    "### Visualization from the Embedding Fixed Weight Layer\n",
    "As will be shown, the fixed weights generated using sinusoids creates a unique signature for every phrase with information on each word position encoded within it."
   ]
  },
  {
   "cell_type": "code",
   "execution_count": 31,
   "id": "860a2b57",
   "metadata": {},
   "outputs": [
    {
     "data": {
      "image/png": "[encoded data removed]",
      "text/plain": [
       "<Figure size 1080x360 with 4 Axes>"
      ]
     },
     "metadata": {
      "needs_background": "light"
     },
     "output_type": "display_data"
    }
   ],
   "source": [
    "fig = plt.figure(figsize=(15, 5))    \n",
    "title = [\"Life Phrase\", \"Philosophical Phrase\"]\n",
    "for i in range(2):\n",
    "    ax = plt.subplot(1, 2, 1+i)\n",
    "    matrix = tf.reshape(fixed_embedding[i, :, :], (sequence_length, final_output_len))\n",
    "    cax = ax.matshow(matrix)\n",
    "    plt.gcf().colorbar(cax)   \n",
    "    plt.title(title[i], y=1.2)\n",
    "fig.suptitle(\"Fixed Weight Embedding from Attention is All You Need\")\n",
    "plt.show()"
   ]
  }
 ],
 "metadata": {
  "kernelspec": {
   "display_name": "Python 3 (ipykernel)",
   "language": "python",
   "name": "python3"
  },
  "language_info": {
   "codemirror_mode": {
    "name": "ipython",
    "version": 3
   },
   "file_extension": ".py",
   "mimetype": "text/x-python",
   "name": "python",
   "nbconvert_exporter": "python",
   "pygments_lexer": "ipython3",
   "version": "3.9.12"
  }
 },
 "nbformat": 4,
 "nbformat_minor": 5
}
